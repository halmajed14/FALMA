{
 "cells": [
  {
   "cell_type": "code",
   "execution_count": 2,
   "id": "53bb1fa0",
   "metadata": {},
   "outputs": [
    {
     "name": "stdout",
     "output_type": "stream",
     "text": [
      "Original shape: (11598, 471)\n",
      "Original classes:\n",
      " Class\n",
      "3    3904\n",
      "4    2546\n",
      "2    2100\n",
      "5    1795\n",
      "1    1253\n",
      "Name: count, dtype: int64\n"
     ]
    }
   ],
   "source": [
    "import pandas as pd\n",
    "\n",
    "# Load your dataset\n",
    "\n",
    "# Load Veremi dataset\n",
    "dataset_path = 'C:\\Dataset\\CICMalDroid2020.csv'  # the actual file path\n",
    "df = pd.read_csv(dataset_path)\n",
    "print(\"Original shape:\", df.shape)\n",
    "print(\"Original classes:\\n\", df['Class'].value_counts())\n"
   ]
  },
  {
   "cell_type": "code",
   "execution_count": 3,
   "id": "e6b38b67",
   "metadata": {},
   "outputs": [
    {
     "name": "stdout",
     "output_type": "stream",
     "text": [
      "After Step 1 - Handling Missing Values: (11598, 471)\n"
     ]
    }
   ],
   "source": [
    "# Step 1: Handling Missing Values\n",
    "df = df.dropna()\n",
    "print(\"After Step 1 - Handling Missing Values:\", df.shape)"
   ]
  },
  {
   "cell_type": "code",
   "execution_count": 4,
   "id": "809e1eac",
   "metadata": {},
   "outputs": [
    {
     "name": "stdout",
     "output_type": "stream",
     "text": [
      "After Step 2 - Removing Duplicates: (11526, 471)\n"
     ]
    }
   ],
   "source": [
    "\n",
    "import numpy as np\n",
    "from sklearn.preprocessing import LabelEncoder\n",
    "from sklearn.feature_selection import VarianceThreshold\n",
    "\n",
    "# Step 2: Removing Duplicates\n",
    "df = df.drop_duplicates()\n",
    "print(\"After Step 2 - Removing Duplicates:\", df.shape)"
   ]
  },
  {
   "cell_type": "code",
   "execution_count": 5,
   "id": "8a9d40a7",
   "metadata": {},
   "outputs": [
    {
     "name": "stdout",
     "output_type": "stream",
     "text": [
      "After Step 3 - Removed 312 high-zero features. New shape: (11526, 158)\n"
     ]
    }
   ],
   "source": [
    "# Step 3: Features Removal (drop features with >90% zero values)\n",
    "X = df.drop('Class', axis=1)\n",
    "y = df['Class']\n",
    "zero_counts = (X == 0).sum()\n",
    "high_zero_features = zero_counts[zero_counts > 0.9 * len(X)].index\n",
    "X = X.drop(columns=high_zero_features)\n",
    "print(f\"After Step 3 - Removed {len(high_zero_features)} high-zero features. New shape: {X.shape}\")\n"
   ]
  },
  {
   "cell_type": "code",
   "execution_count": 6,
   "id": "9145ef50",
   "metadata": {},
   "outputs": [
    {
     "name": "stdout",
     "output_type": "stream",
     "text": [
      "After Step 4 - Handled infinities and nulls: (11526, 158)\n"
     ]
    }
   ],
   "source": [
    "# Step 4: Handle infinite and null values (if any)\n",
    "X = X.replace([np.inf, -np.inf], np.nan).dropna()\n",
    "print(\"After Step 4 - Handled infinities and nulls:\", X.shape)"
   ]
  },
  {
   "cell_type": "code",
   "execution_count": 8,
   "id": "07089bc7",
   "metadata": {},
   "outputs": [],
   "source": [
    "import pandas as pd\n",
    "import numpy as np\n",
    "import random\n",
    "from sklearn.ensemble import RandomForestClassifier\n",
    "from sklearn.model_selection import train_test_split, cross_val_score\n",
    "from sklearn.preprocessing import StandardScaler\n",
    "from imblearn.over_sampling import SMOTE"
   ]
  },
  {
   "cell_type": "code",
   "execution_count": 16,
   "id": "905c37a6",
   "metadata": {},
   "outputs": [],
   "source": [
    "# GA Parameters\n",
    "POP_SIZE = 30\n",
    "N_GEN = 50\n",
    "MUTPB = 0.1\n",
    "CXPB = 0.7\n",
    "TOURN_SIZE = 3\n",
    "EARLY_STOPPING_PATIENCE = 5  # generations\n",
    "N_FEATURES = X.shape[1]"
   ]
  },
  {
   "cell_type": "code",
   "execution_count": 17,
   "id": "1cbce17a",
   "metadata": {},
   "outputs": [],
   "source": [
    "# Fitness function\n",
    "def fitness(individual):\n",
    "    selected = [i for i, bit in enumerate(individual) if bit == 1]\n",
    "    if len(selected) == 0:\n",
    "        return 0\n",
    "    X_sel = X.iloc[:, selected]\n",
    "    clf = RandomForestClassifier(n_estimators=100, random_state=42)\n",
    "    score = cross_val_score(clf, X_sel, y, cv=3, scoring='accuracy', n_jobs=-1)\n",
    "    return score.mean()"
   ]
  },
  {
   "cell_type": "code",
   "execution_count": 18,
   "id": "57bec30a",
   "metadata": {},
   "outputs": [],
   "source": [
    "# Tournament selection\n",
    "def tournament_selection(pop, fitnesses):\n",
    "    selected = []\n",
    "    for _ in range(TOURN_SIZE):\n",
    "        i = random.randint(0, len(pop) - 1)\n",
    "        selected.append((pop[i], fitnesses[i]))\n",
    "    return max(selected, key=lambda x: x[1])[0]"
   ]
  },
  {
   "cell_type": "code",
   "execution_count": 19,
   "id": "d59c7b8e",
   "metadata": {},
   "outputs": [],
   "source": [
    "# Crossover\n",
    "def crossover(p1, p2):\n",
    "    point = random.randint(1, N_FEATURES - 1)\n",
    "    return p1[:point] + p2[point:], p2[:point] + p1[point:]"
   ]
  },
  {
   "cell_type": "code",
   "execution_count": 20,
   "id": "03f9a190",
   "metadata": {},
   "outputs": [],
   "source": [
    "# Mutation\n",
    "def mutate(ind):\n",
    "    return [1 - bit if random.random() < MUTPB else bit for bit in ind]\n"
   ]
  },
  {
   "cell_type": "code",
   "execution_count": 21,
   "id": "f0731a40",
   "metadata": {},
   "outputs": [
    {
     "name": "stdout",
     "output_type": "stream",
     "text": [
      "Generation 1: Best Accuracy = 0.9413\n",
      "Generation 2: Best Accuracy = 0.9428\n",
      "Generation 3: Best Accuracy = 0.9422\n",
      "Generation 4: Best Accuracy = 0.9429\n",
      "Generation 5: Best Accuracy = 0.9428\n",
      "Generation 6: Best Accuracy = 0.9433\n",
      "Generation 7: Best Accuracy = 0.9432\n",
      "Generation 8: Best Accuracy = 0.9435\n",
      "Generation 9: Best Accuracy = 0.9439\n",
      "Generation 10: Best Accuracy = 0.9439\n",
      "Generation 11: Best Accuracy = 0.9435\n",
      "Generation 12: Best Accuracy = 0.9433\n",
      "Generation 13: Best Accuracy = 0.9429\n",
      "Generation 14: Best Accuracy = 0.9442\n",
      "Generation 15: Best Accuracy = 0.9445\n",
      "Generation 16: Best Accuracy = 0.9436\n",
      "Generation 17: Best Accuracy = 0.9443\n",
      "Generation 18: Best Accuracy = 0.9442\n",
      "Generation 19: Best Accuracy = 0.9448\n",
      "Generation 20: Best Accuracy = 0.9436\n",
      "Generation 21: Best Accuracy = 0.9440\n",
      "Generation 22: Best Accuracy = 0.9445\n",
      "Generation 23: Best Accuracy = 0.9447\n",
      "Generation 24: Best Accuracy = 0.9447\n",
      "Early stopping triggered.\n"
     ]
    }
   ],
   "source": [
    "from copy import deepcopy\n",
    "# Initialize population\n",
    "population = [[random.randint(0, 1) for _ in range(N_FEATURES)] for _ in range(POP_SIZE)]\n",
    "best_overall = None\n",
    "best_overall_score = 0\n",
    "no_improvement_counter = 0\n",
    "\n",
    "for gen in range(N_GEN):\n",
    "    fitnesses = [fitness(ind) for ind in population]\n",
    "    best_idx = np.argmax(fitnesses)\n",
    "    best_score = fitnesses[best_idx]\n",
    "\n",
    "    print(f\"Generation {gen + 1}: Best Accuracy = {best_score:.4f}\")\n",
    "\n",
    "    if best_score > best_overall_score:\n",
    "        best_overall_score = best_score\n",
    "        best_overall = deepcopy(population[best_idx])\n",
    "        no_improvement_counter = 0\n",
    "    else:\n",
    "        no_improvement_counter += 1\n",
    "\n",
    "    if no_improvement_counter >= EARLY_STOPPING_PATIENCE:\n",
    "        print(\"Early stopping triggered.\")\n",
    "        break\n",
    "\n",
    "    new_population = []\n",
    "    while len(new_population) < POP_SIZE:\n",
    "        parent1 = tournament_selection(population, fitnesses)\n",
    "        parent2 = tournament_selection(population, fitnesses)\n",
    "        if random.random() < CXPB:\n",
    "            child1, child2 = crossover(parent1, parent2)\n",
    "        else:\n",
    "            child1, child2 = parent1[:], parent2[:]\n",
    "        new_population.extend([mutate(child1), mutate(child2)])\n",
    "\n",
    "    population = new_population[:POP_SIZE]\n"
   ]
  },
  {
   "cell_type": "code",
   "execution_count": 23,
   "id": "32ac8f7a",
   "metadata": {},
   "outputs": [
    {
     "name": "stdout",
     "output_type": "stream",
     "text": [
      "\n",
      "Selected Features with GA + Early Stopping (Numbered):\n",
      "1. ACCESS_PERSONAL_INFO___\n",
      "2. CREATE_THREAD_____\n",
      "3. EXECUTE_____\n",
      "4. FS_ACCESS____\n",
      "5. FS_ACCESS(CREATE)____\n",
      "6. FS_ACCESS(CREATE__READ__WRITE)\n",
      "7. FS_ACCESS(READ)____\n",
      "8. FS_PIPE_ACCESS(READ)___\n",
      "9. NETWORK_ACCESS____\n",
      "10. NETWORK_ACCESS(WRITE)____\n",
      "11. TERMINATE_THREAD\n",
      "12. __arm_nr_cacheflush\n",
      "13. _newselect\n",
      "14. addClient\n",
      "15. addToDisplay\n",
      "16. bind\n",
      "17. brk\n",
      "18. capset\n",
      "19. checkPermission\n",
      "20. close\n",
      "21. connect\n",
      "22. dup\n",
      "23. dup2\n",
      "24. fdatasync\n",
      "25. flock\n",
      "26. fork\n",
      "27. fsync\n",
      "28. ftruncate\n",
      "29. getActiveNetworkInfo\n",
      "30. getActivePhoneType\n",
      "31. getActivityInfo\n",
      "32. getApplicationInfo\n",
      "33. getConnectionInfo\n",
      "34. getDisplayInfo\n",
      "35. getIccSerialNumber\n",
      "36. getInTouchMode\n",
      "37. getInputDeviceIds\n",
      "38. getInstalledPackages\n",
      "39. getLine1Number\n",
      "40. getNetworkInfo\n",
      "41. getPackageInfo\n",
      "42. getProxy\n",
      "43. getSubscriberId\n",
      "44. getegid32\n",
      "45. getsockopt\n",
      "46. hasSystemFeature\n",
      "47. isSpellCheckerEnabled\n",
      "48. listen\n",
      "49. lseek\n",
      "50. lstat64\n",
      "51. madvise\n",
      "52. mkdir\n",
      "53. mprotect\n",
      "54. munmap\n",
      "55. poll\n",
      "56. prctl\n",
      "57. pwrite64\n",
      "58. read\n",
      "59. readlink\n",
      "60. recvmsg\n",
      "61. registerCallback\n",
      "62. registerContentObserver\n",
      "63. registerInputDevicesChangedListener\n",
      "64. remove\n",
      "65. rename\n",
      "66. send\n",
      "67. sendAccessibilityEvent\n",
      "68. set\n",
      "69. setComponentEnabledSetting\n",
      "70. setgroups32\n",
      "71. setpgid\n",
      "72. setpriority\n",
      "73. setresgid32\n",
      "74. setrlimit\n",
      "75. sigaction\n",
      "76. sigaltstack\n",
      "77. socket\n",
      "78. uname\n",
      "79. write\n",
      "80. writev\n"
     ]
    }
   ],
   "source": [
    "# Final feature selection\n",
    "selected_indices = [i for i, bit in enumerate(best_overall) if bit == 1]\n",
    "selected_features = X.columns[selected_indices]\n",
    "\n",
    "print(\"\\nSelected Features with GA + Early Stopping (Numbered):\")\n",
    "for idx, feat in enumerate(selected_features, start=1):\n",
    "    print(f\"{idx}. {feat}\")\n"
   ]
  },
  {
   "cell_type": "code",
   "execution_count": 26,
   "id": "2e321acf",
   "metadata": {},
   "outputs": [
    {
     "name": "stdout",
     "output_type": "stream",
     "text": [
      "\n",
      "Saved to cleaned_DF_with_GA.csv\n"
     ]
    }
   ],
   "source": [
    "# Save the selected feature dataset\n",
    "X_ga = X[selected_features].copy()\n",
    "X_ga['Class'] = y\n",
    "output_csv = 'C:\\Dataset\\cleaned_DF_with_GA.csv'  # Output file path\n",
    "\n",
    "X_ga.to_csv(output_csv, index=False)\n",
    "print(\"\\nSaved to cleaned_DF_with_GA.csv\")"
   ]
  }
 ],
 "metadata": {
  "kernelspec": {
   "display_name": "Python (test1)",
   "language": "python",
   "name": "your_env_name"
  },
  "language_info": {
   "codemirror_mode": {
    "name": "ipython",
    "version": 3
   },
   "file_extension": ".py",
   "mimetype": "text/x-python",
   "name": "python",
   "nbconvert_exporter": "python",
   "pygments_lexer": "ipython3",
   "version": "3.9.21"
  }
 },
 "nbformat": 4,
 "nbformat_minor": 5
}
