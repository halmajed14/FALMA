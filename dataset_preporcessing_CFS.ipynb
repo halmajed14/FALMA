{
 "cells": [
  {
   "cell_type": "code",
   "execution_count": 1,
   "id": "d5a84870",
   "metadata": {},
   "outputs": [
    {
     "name": "stdout",
     "output_type": "stream",
     "text": [
      "Original shape: (11598, 471)\n",
      "Original classes:\n",
      " Class\n",
      "3    3904\n",
      "4    2546\n",
      "2    2100\n",
      "5    1795\n",
      "1    1253\n",
      "Name: count, dtype: int64\n"
     ]
    }
   ],
   "source": [
    "import pandas as pd\n",
    "\n",
    "# Load your dataset\n",
    "\n",
    "# Load Veremi dataset\n",
    "dataset_path = 'C:\\Dataset\\CICMalDroid2020.csv'  # the actual file path\n",
    "df = pd.read_csv(dataset_path)\n",
    "print(\"Original shape:\", df.shape)\n",
    "print(\"Original classes:\\n\", df['Class'].value_counts())"
   ]
  },
  {
   "cell_type": "code",
   "execution_count": 2,
   "id": "1d0370dc",
   "metadata": {},
   "outputs": [
    {
     "name": "stdout",
     "output_type": "stream",
     "text": [
      "After Step 1 - Handling Missing Values: (11598, 471)\n"
     ]
    }
   ],
   "source": [
    "# Step 1: Handling Missing Values\n",
    "df = df.dropna()\n",
    "print(\"After Step 1 - Handling Missing Values:\", df.shape)"
   ]
  },
  {
   "cell_type": "code",
   "execution_count": 3,
   "id": "995bfc38",
   "metadata": {},
   "outputs": [
    {
     "name": "stdout",
     "output_type": "stream",
     "text": [
      "After Step 2 - Removing Duplicates: (11526, 471)\n"
     ]
    }
   ],
   "source": [
    "import numpy as np\n",
    "from sklearn.preprocessing import LabelEncoder\n",
    "from sklearn.feature_selection import VarianceThreshold\n",
    "\n",
    "# Step 2: Removing Duplicates\n",
    "df = df.drop_duplicates()\n",
    "print(\"After Step 2 - Removing Duplicates:\", df.shape)"
   ]
  },
  {
   "cell_type": "code",
   "execution_count": 4,
   "id": "738f2b96",
   "metadata": {},
   "outputs": [
    {
     "name": "stdout",
     "output_type": "stream",
     "text": [
      "After Step 3 - Removed 312 high-zero features. New shape: (11526, 158)\n"
     ]
    }
   ],
   "source": [
    "# Step 3: Features Removal (drop features with >90% zero values)\n",
    "X = df.drop('Class', axis=1)\n",
    "y = df['Class']\n",
    "zero_counts = (X == 0).sum()\n",
    "high_zero_features = zero_counts[zero_counts > 0.9 * len(X)].index\n",
    "X = X.drop(columns=high_zero_features)\n",
    "print(f\"After Step 3 - Removed {len(high_zero_features)} high-zero features. New shape: {X.shape}\")"
   ]
  },
  {
   "cell_type": "code",
   "execution_count": 5,
   "id": "0347e458",
   "metadata": {},
   "outputs": [
    {
     "name": "stdout",
     "output_type": "stream",
     "text": [
      "After Step 4 - Handled infinities and nulls: (11526, 158)\n"
     ]
    }
   ],
   "source": [
    "# Step 4: Handle infinite and null values (if any)\n",
    "X = X.replace([np.inf, -np.inf], np.nan).dropna()\n",
    "print(\"After Step 4 - Handled infinities and nulls:\", X.shape)"
   ]
  },
  {
   "cell_type": "code",
   "execution_count": 9,
   "id": "3099730b",
   "metadata": {},
   "outputs": [],
   "source": [
    "import pandas as pd\n",
    "import numpy as np\n",
    "from sklearn.model_selection import train_test_split\n",
    "from sklearn.preprocessing import StandardScaler\n",
    "from imblearn.over_sampling import SMOTE"
   ]
  },
  {
   "cell_type": "code",
   "execution_count": 10,
   "id": "13ee4562",
   "metadata": {},
   "outputs": [],
   "source": [
    "# a) Add label back for correlation matrix\n",
    "df_corr = X.copy()\n",
    "df_corr[\"Class\"] = y"
   ]
  },
  {
   "cell_type": "code",
   "execution_count": 11,
   "id": "3f6cdf2a",
   "metadata": {},
   "outputs": [],
   "source": [
    "# b) Correlation of each feature with the target\n",
    "cor_matrix = df_corr.corr()\n",
    "target_corr = cor_matrix[\"Class\"].drop(\"Class\").abs()\n"
   ]
  },
  {
   "cell_type": "code",
   "execution_count": 12,
   "id": "a52e800d",
   "metadata": {},
   "outputs": [],
   "source": [
    "# c) Select features strongly correlated with the class (threshold = 0.1)\n",
    "selected_by_target = target_corr[target_corr > 0.1].index.tolist()"
   ]
  },
  {
   "cell_type": "code",
   "execution_count": 13,
   "id": "1691cf63",
   "metadata": {},
   "outputs": [],
   "source": [
    "# d) Remove highly inter-correlated features (correlation > 0.9)\n",
    "reduced_corr_matrix = df_corr[selected_by_target].corr().abs()\n",
    "upper = reduced_corr_matrix.where(np.triu(np.ones(reduced_corr_matrix.shape), k=1).astype(bool))\n",
    "to_drop = [column for column in upper.columns if any(upper[column] > 0.9)]\n"
   ]
  },
  {
   "cell_type": "code",
   "execution_count": 14,
   "id": "e967b10f",
   "metadata": {},
   "outputs": [],
   "source": [
    "# e) Final selected features\n",
    "selected_features_cfs = [feat for feat in selected_by_target if feat not in to_drop]"
   ]
  },
  {
   "cell_type": "code",
   "execution_count": 15,
   "id": "7017baa6",
   "metadata": {},
   "outputs": [
    {
     "name": "stdout",
     "output_type": "stream",
     "text": [
      "\n",
      "Selected Features by CFS (Numbered):\n",
      "1. CREATE_FOLDER_____\n",
      "2. CREATE_PROCESS`_____\n",
      "3. CREATE_THREAD_____\n",
      "4. FS_ACCESS____\n",
      "5. FS_ACCESS()____\n",
      "6. FS_ACCESS(CREATE)____\n",
      "7. FS_ACCESS(CREATE__READ)__\n",
      "8. FS_ACCESS(CREATE__READ__WRITE)\n",
      "9. FS_ACCESS(CREATE__WRITE)__\n",
      "10. FS_ACCESS(WRITE)____\n",
      "11. FS_PIPE_ACCESS___\n",
      "12. FS_PIPE_ACCESS(READ)___\n",
      "13. FS_PIPE_ACCESS(READ__WRITE)_\n",
      "14. NETWORK_ACCESS____\n",
      "15. NETWORK_ACCESS()____\n",
      "16. NETWORK_ACCESS(READ__WRITE)__\n",
      "17. NETWORK_ACCESS(WRITE__)__\n",
      "18. __arm_nr_cacheflush\n",
      "19. brk\n",
      "20. chmod\n",
      "21. close\n",
      "22. epoll_create\n",
      "23. fchmod\n",
      "24. finishDrawing\n",
      "25. flock\n",
      "26. fstat64\n",
      "27. getActivityInfo\n",
      "28. getDataNetworkType\n",
      "29. getIccSerialNumber\n",
      "30. getStreamVolume\n",
      "31. getSubscriberId\n",
      "32. getdents64\n",
      "33. getegid32\n",
      "34. getsockopt\n",
      "35. hasSystemFeature\n",
      "36. ioctl\n",
      "37. isSpeakerphoneOn\n",
      "38. listen\n",
      "39. lseek\n",
      "40. madvise\n",
      "41. mkdir\n",
      "42. mmap2\n",
      "43. mprotect\n",
      "44. msync\n",
      "45. prctl\n",
      "46. pwrite64\n",
      "47. registerContentObserver\n",
      "48. remove\n",
      "49. setpgid\n",
      "50. setsockopt\n",
      "51. sigaction\n",
      "52. socket\n",
      "53. stat64\n",
      "54. statfs64\n",
      "55. ugetrlimit\n",
      "56. uname\n"
     ]
    }
   ],
   "source": [
    "print(\"\\nSelected Features by CFS (Numbered):\")\n",
    "for idx, feat in enumerate(selected_features_cfs, start=1):\n",
    "    print(f\"{idx}. {feat}\")"
   ]
  },
  {
   "cell_type": "code",
   "execution_count": null,
   "id": "9290ec21",
   "metadata": {},
   "outputs": [
    {
     "name": "stdout",
     "output_type": "stream",
     "text": [
      "\n",
      "💾 Dataset saved to cleaned_DF_with_CFS.csv\n"
     ]
    }
   ],
   "source": [
    "\n",
    "#Save\n",
    "X_cfs = X[selected_features_cfs].copy()\n",
    "X_cfs[\"Class\"] = y\n",
    "output_csv = 'C:\\Dataset\\cleaned_DF_with_CFS.csv'  # Output file path\n",
    "X_cfs.to_csv(output_csv, index=False)\n",
    "print(\"\\n Dataset saved to cleaned_DF_with_CFS.csv\")"
   ]
  }
 ],
 "metadata": {
  "kernelspec": {
   "display_name": "Python (test1)",
   "language": "python",
   "name": "your_env_name"
  },
  "language_info": {
   "codemirror_mode": {
    "name": "ipython",
    "version": 3
   },
   "file_extension": ".py",
   "mimetype": "text/x-python",
   "name": "python",
   "nbconvert_exporter": "python",
   "pygments_lexer": "ipython3",
   "version": "3.9.21"
  }
 },
 "nbformat": 4,
 "nbformat_minor": 5
}
