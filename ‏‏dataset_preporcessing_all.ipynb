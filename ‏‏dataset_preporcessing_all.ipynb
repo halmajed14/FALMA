{
 "cells": [
  {
   "cell_type": "code",
   "execution_count": 22,
   "id": "d5a84870",
   "metadata": {},
   "outputs": [
    {
     "name": "stdout",
     "output_type": "stream",
     "text": [
      "Original shape: (11598, 471)\n",
      "Original classes:\n",
      " Class\n",
      "3    3904\n",
      "4    2546\n",
      "2    2100\n",
      "5    1795\n",
      "1    1253\n",
      "Name: count, dtype: int64\n"
     ]
    }
   ],
   "source": [
    "import pandas as pd\n",
    "\n",
    "# Load your dataset\n",
    "\n",
    "# Load Veremi dataset\n",
    "dataset_path = 'C:\\Dataset\\CICMalDroid2020.csv'  # the actual file path\n",
    "df = pd.read_csv(dataset_path)\n",
    "print(\"Original shape:\", df.shape)\n",
    "print(\"Original classes:\\n\", df['Class'].value_counts())"
   ]
  },
  {
   "cell_type": "code",
   "execution_count": 23,
   "id": "1d0370dc",
   "metadata": {},
   "outputs": [
    {
     "name": "stdout",
     "output_type": "stream",
     "text": [
      "After Step 1 - Handling Missing Values: (11598, 471)\n"
     ]
    }
   ],
   "source": [
    "# Step 1: Handling Missing Values\n",
    "df = df.dropna()\n",
    "print(\"After Step 1 - Handling Missing Values:\", df.shape)"
   ]
  },
  {
   "cell_type": "code",
   "execution_count": 24,
   "id": "995bfc38",
   "metadata": {},
   "outputs": [
    {
     "name": "stdout",
     "output_type": "stream",
     "text": [
      "After Step 2 - Removing Duplicates: (11526, 471)\n"
     ]
    }
   ],
   "source": [
    "import numpy as np\n",
    "from sklearn.preprocessing import LabelEncoder\n",
    "from sklearn.feature_selection import VarianceThreshold\n",
    "\n",
    "# Step 2: Removing Duplicates\n",
    "df = df.drop_duplicates()\n",
    "print(\"After Step 2 - Removing Duplicates:\", df.shape)"
   ]
  },
  {
   "cell_type": "code",
   "execution_count": 25,
   "id": "738f2b96",
   "metadata": {},
   "outputs": [
    {
     "name": "stdout",
     "output_type": "stream",
     "text": [
      "After Step 3 - Removed 312 high-zero features. New shape: (11526, 158)\n"
     ]
    }
   ],
   "source": [
    "# Step 3: Features Removal (drop features with >90% zero values)\n",
    "X = df.drop('Class', axis=1)\n",
    "y = df['Class']\n",
    "zero_counts = (X == 0).sum()\n",
    "high_zero_features = zero_counts[zero_counts > 0.9 * len(X)].index\n",
    "X = X.drop(columns=high_zero_features)\n",
    "print(f\"After Step 3 - Removed {len(high_zero_features)} high-zero features. New shape: {X.shape}\")"
   ]
  },
  {
   "cell_type": "code",
   "execution_count": 26,
   "id": "0347e458",
   "metadata": {},
   "outputs": [
    {
     "name": "stdout",
     "output_type": "stream",
     "text": [
      "After Step 4 - Handled infinities and nulls: (11526, 158)\n"
     ]
    }
   ],
   "source": [
    "# Step 4: Handle infinite and null values (if any)\n",
    "X = X.replace([np.inf, -np.inf], np.nan).dropna()\n",
    "print(\"After Step 4 - Handled infinities and nulls:\", X.shape)"
   ]
  },
  {
   "cell_type": "code",
   "execution_count": 28,
   "id": "9290ec21",
   "metadata": {},
   "outputs": [
    {
     "name": "stdout",
     "output_type": "stream",
     "text": [
      "\n",
      " Dataset saved to cleaned_DF_with_all.csv\n"
     ]
    }
   ],
   "source": [
    "\n",
    "#Save\n",
    "\n",
    "X[\"Class\"] = y\n",
    "\n",
    "output_csv = 'C:\\Dataset\\cleaned_DF_with_all.csv'  # Output file path\n",
    "X.to_csv(output_csv, index=False)\n",
    "print(\"\\n Dataset saved to cleaned_DF_with_all.csv\")"
   ]
  }
 ],
 "metadata": {
  "kernelspec": {
   "display_name": "Python (test1)",
   "language": "python",
   "name": "your_env_name"
  },
  "language_info": {
   "codemirror_mode": {
    "name": "ipython",
    "version": 3
   },
   "file_extension": ".py",
   "mimetype": "text/x-python",
   "name": "python",
   "nbconvert_exporter": "python",
   "pygments_lexer": "ipython3",
   "version": "3.9.21"
  }
 },
 "nbformat": 4,
 "nbformat_minor": 5
}
